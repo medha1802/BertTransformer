{
  "nbformat": 4,
  "nbformat_minor": 0,
  "metadata": {
    "colab": {
      "provenance": [],
      "authorship_tag": "ABX9TyNtX8l6A0f5cW/QpIoTXgO6",
      "include_colab_link": true
    },
    "kernelspec": {
      "name": "python3",
      "display_name": "Python 3"
    },
    "language_info": {
      "name": "python"
    }
  },
  "cells": [
    {
      "cell_type": "markdown",
      "metadata": {
        "id": "view-in-github",
        "colab_type": "text"
      },
      "source": [
        "<a href=\"https://colab.research.google.com/github/medha1802/BertTransformer/blob/main/QATranformerBert.ipynb\" target=\"_parent\"><img src=\"https://colab.research.google.com/assets/colab-badge.svg\" alt=\"Open In Colab\"/></a>"
      ]
    },
    {
      "cell_type": "code",
      "source": [
        "# Importing necessary modules\n",
        "from transformers import BertForQuestionAnswering\n",
        "from transformers import pipeline\n",
        "from transformers import AutoTokenizer\n",
        "from transformers import AutoModelForQuestionAnswering\n",
        "from tokenizers import Tokenizer"
      ],
      "metadata": {
        "id": "Oyfvxc4HtxzT"
      },
      "execution_count": 142,
      "outputs": []
    },
    {
      "cell_type": "code",
      "source": [
        "# Context for the question answering\n",
        "context = (\n",
        "\"Coffee has a rich and intricate history that spans centuries, continents, and cultures. Originating from the coffee forests of Ethiopia, it has become one of the most beloved and globally cherished beverages. The journey of coffee began with the discovery by an Ethiopian goat herder named Kaldi, who noticed the stimulating effects of coffee beans when his goats consumed them. This discovery eventually led to the cultivation of coffee in Yemen during the 15th century, where it gained popularity for its invigorating properties.\"\n",
        "\n",
        "\"The appeal of coffee quickly spread to the Arabian Peninsula, with coffeehouses becoming vibrant centers of social interaction and intellectual exchange. These establishments, often referred to as 'qahveh khaneh,' emerged as places where people from all walks of life gathered to share ideas, discuss matters of importance, and enjoy the flavorful beverage. As the Ottoman Empire expanded, coffee found its way to various parts of Europe, becoming a cherished commodity.\"\n",
        "\n",
        "\"Over time, coffee's influence extended to different regions, leading to the emergence of various coffee-growing areas, each contributing unique flavor profiles to the world of coffee. From the high-altitude plantations of Ethiopia to the lush landscapes of Colombia, coffee-growing regions have become synonymous with distinct taste characteristics. The terroir, climate, altitude, and soil composition of each region play a crucial role in shaping the flavors of the beans.\"\n",
        "\n",
        "\"The brewing methods for coffee have evolved to cater to different preferences and lifestyles. Methods such as drip brewing, French press, espresso, and pour-over offer distinct brewing experiences that influence the taste and aroma of the final cup. Each method highlights different aspects of the coffee's flavor profile, from the full-bodied richness of espresso to the clean and nuanced flavors of pour-over.\"\n",
        "\n",
        "\"As the coffee industry has grown, it has witnessed significant milestones, including the establishment of fair trade practices and the rise of specialty coffee. The concept of 'third wave coffee' emerged, emphasizing the appreciation of coffee as an artisanal product with unique origins. This movement has driven a focus on sustainable practices, ethical sourcing, and direct relationships with coffee producers.\"\n",
        "\n",
        "\"The environmental and ethical considerations of coffee production are crucial topics. Sustainable farming practices, shade-grown cultivation, and efforts to reduce the carbon footprint of coffee production have gained prominence. Moreover, issues of fair wages, labor conditions, and social impact have sparked conversations about the ethical aspects of the coffee industry.\"\n",
        "\n",
        "\"Coffeehouses and cafés have played a pivotal role in fostering social interactions and building communities. They serve as gathering spaces where people can engage in conversations, hold meetings, or simply enjoy moments of relaxation. The café culture has become an integral part of urban life, offering a sense of belonging and connection.\"\n",
        "\n",
        "\"Coffee holds profound cultural significance across the globe. From the Italian espresso culture to the traditional Turkish coffee rituals, coffee has shaped cultural practices and traditions. It has been part of ceremonies, celebrations, and daily routines, connecting people across generations.\"\n",
        "\n",
        "\"Emerging trends in the coffee industry include the rise of specialty roasts, where coffee is treated as an artisanal product with a focus on quality and unique flavors. Sustainability is also a growing concern, with an emphasis on environmentally friendly practices throughout the supply chain.\"\n",
        "\n",
        "\"Assessing the quality and characteristics of coffee beans is a skill honed by experts known as 'cuppers.' They evaluate coffee through sensory analysis, identifying aromas, flavors, acidity, body, and balance. These evaluations play a crucial role in determining the beans' quality and potential.\"\n",
        "\n",
        "\"Looking ahead, the world of coffee is likely to witness continuous innovation and development. Advancements in technology may lead to new brewing methods, while sustainable practices will continue to gain prominence. Additionally, the exploration of new coffee-growing regions and the preservation of traditional coffee cultures will contribute to the ever-evolving coffee landscape.\"\n",
        ")\n",
        "context"
      ],
      "metadata": {
        "colab": {
          "base_uri": "https://localhost:8080/",
          "height": 143
        },
        "id": "5bmL8DBHt1C9",
        "outputId": "b6db1c87-351c-4a5a-c169-ad69dea356e8"
      },
      "execution_count": 167,
      "outputs": [
        {
          "output_type": "execute_result",
          "data": {
            "text/plain": [
              "\"Coffee has a rich and intricate history that spans centuries, continents, and cultures. Originating from the coffee forests of Ethiopia, it has become one of the most beloved and globally cherished beverages. The journey of coffee began with the discovery by an Ethiopian goat herder named Kaldi, who noticed the stimulating effects of coffee beans when his goats consumed them. This discovery eventually led to the cultivation of coffee in Yemen during the 15th century, where it gained popularity for its invigorating properties.The appeal of coffee quickly spread to the Arabian Peninsula, with coffeehouses becoming vibrant centers of social interaction and intellectual exchange. These establishments, often referred to as 'qahveh khaneh,' emerged as places where people from all walks of life gathered to share ideas, discuss matters of importance, and enjoy the flavorful beverage. As the Ottoman Empire expanded, coffee found its way to various parts of Europe, becoming a cherished commodity.Over time, coffee's influence extended to different regions, leading to the emergence of various coffee-growing areas, each contributing unique flavor profiles to the world of coffee. From the high-altitude plantations of Ethiopia to the lush landscapes of Colombia, coffee-growing regions have become synonymous with distinct taste characteristics. The terroir, climate, altitude, and soil composition of each region play a crucial role in shaping the flavors of the beans.The brewing methods for coffee have evolved to cater to different preferences and lifestyles. Methods such as drip brewing, French press, espresso, and pour-over offer distinct brewing experiences that influence the taste and aroma of the final cup. Each method highlights different aspects of the coffee's flavor profile, from the full-bodied richness of espresso to the clean and nuanced flavors of pour-over.As the coffee industry has grown, it has witnessed significant milestones, including the establishment of fair trade practices and the rise of specialty coffee. The concept of 'third wave coffee' emerged, emphasizing the appreciation of coffee as an artisanal product with unique origins. This movement has driven a focus on sustainable practices, ethical sourcing, and direct relationships with coffee producers.The environmental and ethical considerations of coffee production are crucial topics. Sustainable farming practices, shade-grown cultivation, and efforts to reduce the carbon footprint of coffee production have gained prominence. Moreover, issues of fair wages, labor conditions, and social impact have sparked conversations about the ethical aspects of the coffee industry.Coffeehouses and cafés have played a pivotal role in fostering social interactions and building communities. They serve as gathering spaces where people can engage in conversations, hold meetings, or simply enjoy moments of relaxation. The café culture has become an integral part of urban life, offering a sense of belonging and connection.Coffee holds profound cultural significance across the globe. From the Italian espresso culture to the traditional Turkish coffee rituals, coffee has shaped cultural practices and traditions. It has been part of ceremonies, celebrations, and daily routines, connecting people across generations.Emerging trends in the coffee industry include the rise of specialty roasts, where coffee is treated as an artisanal product with a focus on quality and unique flavors. Sustainability is also a growing concern, with an emphasis on environmentally friendly practices throughout the supply chain.Assessing the quality and characteristics of coffee beans is a skill honed by experts known as 'cuppers.' They evaluate coffee through sensory analysis, identifying aromas, flavors, acidity, body, and balance. These evaluations play a crucial role in determining the beans' quality and potential.Looking ahead, the world of coffee is likely to witness continuous innovation and development. Advancements in technology may lead to new brewing methods, while sustainable practices will continue to gain prominence. Additionally, the exploration of new coffee-growing regions and the preservation of traditional coffee cultures will contribute to the ever-evolving coffee landscape.\""
            ],
            "application/vnd.google.colaboratory.intrinsic+json": {
              "type": "string"
            }
          },
          "metadata": {},
          "execution_count": 167
        }
      ]
    },
    {
      "cell_type": "code",
      "source": [
        "# List of questions\n",
        "questions = [\n",
        " \"What are the origins of coffee?\",\n",
        "\"Can you explore the different coffee-growing regions around the world?\",\n",
        "\"What are some of the most popular brewing methods for coffee?\",\n",
        "\"How has the coffee industry evolved over time, and what are the key milestones in its history?\",\n",
        "\"Could you share insights into the environmental and ethical considerations of coffee production?\",\n",
        "\"What role do coffeehouses and cafés play in fostering social interactions and community connections?\",\n",
        "\"What is the significance of coffee in various cultures and how has it shaped their traditions?\",\n",
        "\"What are some emerging trends in the coffee industry, such as specialty roasts and sustainable practices?\",\n",
        "\"How do experts assess the quality and characteristics of coffee beans?\",\n",
        "\"Looking ahead, what innovations or developments can we expect to see in the world of coffee?\"\n",
        "]"
      ],
      "metadata": {
        "id": "E3HpcdnDdypF"
      },
      "execution_count": 175,
      "outputs": []
    },
    {
      "cell_type": "code",
      "source": [
        "# Loading the pre-trained BERT model\n",
        "model = AutoModelForQuestionAnswering.from_pretrained('deepset/bert-base-cased-squad2')"
      ],
      "metadata": {
        "colab": {
          "base_uri": "https://localhost:8080/"
        },
        "id": "8s_SaN0flo8D",
        "outputId": "bc66e120-fa70-4118-e64d-681d92549959"
      },
      "execution_count": 169,
      "outputs": [
        {
          "output_type": "stream",
          "name": "stderr",
          "text": [
            "Some weights of the model checkpoint at deepset/bert-base-cased-squad2 were not used when initializing BertForQuestionAnswering: ['bert.pooler.dense.bias', 'bert.pooler.dense.weight']\n",
            "- This IS expected if you are initializing BertForQuestionAnswering from the checkpoint of a model trained on another task or with another architecture (e.g. initializing a BertForSequenceClassification model from a BertForPreTraining model).\n",
            "- This IS NOT expected if you are initializing BertForQuestionAnswering from the checkpoint of a model that you expect to be exactly identical (initializing a BertForSequenceClassification model from a BertForSequenceClassification model).\n"
          ]
        }
      ]
    },
    {
      "cell_type": "code",
      "source": [
        "# Creating a question-answering pipeline\n",
        "FinalNlp = pipeline('question-answering', model=model, tokenizer=Tokenizer)"
      ],
      "metadata": {
        "id": "KlvKzK4TGjU6"
      },
      "execution_count": 170,
      "outputs": []
    },
    {
      "cell_type": "code",
      "source": [
        "# Creating an AutoTokenizer instance\n",
        "tokenizer = AutoTokenizer.from_pretrained('deepset/bert-base-cased-squad2')\n"
      ],
      "metadata": {
        "id": "PNvB3K7KQuOj"
      },
      "execution_count": 171,
      "outputs": []
    },
    {
      "cell_type": "code",
      "source": [
        "# Encoding a question using the AutoTokenizer\n",
        "inputs = tokenizer.encode_plus(questions[0], max_length=128, truncation=True, padding=True)\n"
      ],
      "metadata": {
        "id": "nVrjwrrPugx9"
      },
      "execution_count": 172,
      "outputs": []
    },
    {
      "cell_type": "code",
      "source": [
        "# Creating another question-answering pipeline using the AutoTokenizer\n",
        "FinalNlp = pipeline('question-answering', model=model, tokenizer=tokenizer)\n"
      ],
      "metadata": {
        "id": "IQYtWOthSG0m"
      },
      "execution_count": 173,
      "outputs": []
    },
    {
      "cell_type": "code",
      "source": [
        "FinalNlp({\n",
        "'question': questions [0],\n",
        "'context': context\n",
        "})"
      ],
      "metadata": {
        "colab": {
          "base_uri": "https://localhost:8080/"
        },
        "id": "8zvHK_U0aaVl",
        "outputId": "92edd5c2-3fbd-42e2-9948-7c1611b72b18"
      },
      "execution_count": 181,
      "outputs": [
        {
          "output_type": "execute_result",
          "data": {
            "text/plain": [
              "{'score': 0.4576217532157898,\n",
              " 'start': 109,\n",
              " 'end': 135,\n",
              " 'answer': 'coffee forests of Ethiopia'}"
            ]
          },
          "metadata": {},
          "execution_count": 181
        }
      ]
    }
  ]
}