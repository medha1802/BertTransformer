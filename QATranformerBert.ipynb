{
  "nbformat": 4,
  "nbformat_minor": 0,
  "metadata": {
    "colab": {
      "provenance": [],
      "authorship_tag": "ABX9TyPRTNmWlMGZjlke1G6KvrGO",
      "include_colab_link": true
    },
    "kernelspec": {
      "name": "python3",
      "display_name": "Python 3"
    },
    "language_info": {
      "name": "python"
    }
  },
  "cells": [
    {
      "cell_type": "markdown",
      "metadata": {
        "id": "view-in-github",
        "colab_type": "text"
      },
      "source": [
        "<a href=\"https://colab.research.google.com/github/medha1802/BertTransformer/blob/main/QATranformerBert.ipynb\" target=\"_parent\"><img src=\"https://colab.research.google.com/assets/colab-badge.svg\" alt=\"Open In Colab\"/></a>"
      ]
    },
    {
      "cell_type": "code",
      "source": [
        "# Importing necessary modules\n",
        "from transformers import BertForQuestionAnswering\n",
        "from transformers import pipeline\n",
        "from transformers import AutoTokenizer\n",
        "from transformers import AutoModelForQuestionAnswering\n",
        "from tokenizers import Tokenizer"
      ],
      "metadata": {
        "id": "Oyfvxc4HtxzT"
      },
      "execution_count": 131,
      "outputs": []
    },
    {
      "cell_type": "code",
      "source": [
        "# Context for the question answering\n",
        "context = (\n",
        "\"The Intergovernmental Panel on Climate Change (IPCC) is a scientific intergovernmental body under the auspices \"\n",
        "\"of the United Nations, set up at the request of member governments. It was first established in 1988 by two United \"\n",
        "\"Nations organizations, the World Meteorological Organization (WMO) and the United Nations Environment Programme \"\n",
        "\"(UNEP), and later endorsed by the United Nations General Assembly through Resolution 43/53. Membership of the IPCC\"\n",
        "\"is open to all members of the WMO and UNEP. The IPCC produces reports that support the United Nations Framework \"\n",
        "\"Convention on Climate Change (UNFCCC), which is the main international treaty on climate change. The ultimate \"\n",
        "\"obiective of the UNFCCC is to \\\"stabilize greenhouse gas concentrations in the atmosphere at a level that would \"\n",
        "\"prevent dangerous anthropogenic [i.e., human-induced] interference with the climate system\\\". IPCC reports cover \"\n",
        "\"\\\"the scientific, technical and socio-economic information relevant to understanding the scientific basis of risk\"\n",
        "\"of human-induced climate change, its potential impacts and options for adaptation and mitigation.\\\"\"\n",
        ")\n",
        "context"
      ],
      "metadata": {
        "colab": {
          "base_uri": "https://localhost:8080/",
          "height": 143
        },
        "id": "5bmL8DBHt1C9",
        "outputId": "021c37c6-8c58-46ce-9afa-1bc5008f81af"
      },
      "execution_count": 132,
      "outputs": [
        {
          "output_type": "execute_result",
          "data": {
            "text/plain": [
              "'The Intergovernmental Panel on Climate Change (IPCC) is a scientific intergovernmental body under the auspices of the United Nations, set up at the request of member governments. It was first established in 1988 by two United Nations organizations, the World Meteorological Organization (WMO) and the United Nations Environment Programme (UNEP), and later endorsed by the United Nations General Assembly through Resolution 43/53. Membership of the IPCCis open to all members of the WMO and UNEP. The IPCC produces reports that support the United Nations Framework Convention on Climate Change (UNFCCC), which is the main international treaty on climate change. The ultimate obiective of the UNFCCC is to \"stabilize greenhouse gas concentrations in the atmosphere at a level that would prevent dangerous anthropogenic [i.e., human-induced] interference with the climate system\". IPCC reports cover \"the scientific, technical and socio-economic information relevant to understanding the scientific basis of riskof human-induced climate change, its potential impacts and options for adaptation and mitigation.\"'"
            ],
            "application/vnd.google.colaboratory.intrinsic+json": {
              "type": "string"
            }
          },
          "metadata": {},
          "execution_count": 132
        }
      ]
    },
    {
      "cell_type": "code",
      "source": [
        "# List of questions\n",
        "questions = [\n",
        "\"What organization is the IPCC a part of?\",\n",
        "\"What UN organizations established the IPCC?\",\n",
        "\"What doos the IN want to ctabilize?\",\n",
        "]"
      ],
      "metadata": {
        "id": "E3HpcdnDdypF"
      },
      "execution_count": 133,
      "outputs": []
    },
    {
      "cell_type": "code",
      "source": [
        "# Loading the pre-trained BERT model\n",
        "model = AutoModelForQuestionAnswering.from_pretrained('deepset/bert-base-cased-squad2')"
      ],
      "metadata": {
        "colab": {
          "base_uri": "https://localhost:8080/"
        },
        "id": "8s_SaN0flo8D",
        "outputId": "f5da3ae4-4ba1-4e14-b740-bffef217851d"
      },
      "execution_count": 134,
      "outputs": [
        {
          "output_type": "stream",
          "name": "stderr",
          "text": [
            "Some weights of the model checkpoint at deepset/bert-base-cased-squad2 were not used when initializing BertForQuestionAnswering: ['bert.pooler.dense.bias', 'bert.pooler.dense.weight']\n",
            "- This IS expected if you are initializing BertForQuestionAnswering from the checkpoint of a model trained on another task or with another architecture (e.g. initializing a BertForSequenceClassification model from a BertForPreTraining model).\n",
            "- This IS NOT expected if you are initializing BertForQuestionAnswering from the checkpoint of a model that you expect to be exactly identical (initializing a BertForSequenceClassification model from a BertForSequenceClassification model).\n"
          ]
        }
      ]
    },
    {
      "cell_type": "code",
      "source": [
        "# Creating a question-answering pipeline\n",
        "FinalNlp = pipeline('question-answering', model=model, tokenizer=Tokenizer)"
      ],
      "metadata": {
        "id": "KlvKzK4TGjU6"
      },
      "execution_count": 135,
      "outputs": []
    },
    {
      "cell_type": "code",
      "source": [
        "# Creating an AutoTokenizer instance\n",
        "tokenizer = AutoTokenizer.from_pretrained('deepset/bert-base-cased-squad2')\n"
      ],
      "metadata": {
        "id": "PNvB3K7KQuOj"
      },
      "execution_count": 136,
      "outputs": []
    },
    {
      "cell_type": "code",
      "source": [
        "# Encoding a question using the AutoTokenizer\n",
        "inputs = tokenizer.encode_plus(questions[1], max_length=128, truncation=True, padding=True)"
      ],
      "metadata": {
        "id": "nVrjwrrPugx9"
      },
      "execution_count": 137,
      "outputs": []
    },
    {
      "cell_type": "code",
      "source": [
        "# Creating another question-answering pipeline using the AutoTokenizer\n",
        "FinalNlp = pipeline('question-answering', model=model, tokenizer=tokenizer)\n"
      ],
      "metadata": {
        "id": "IQYtWOthSG0m"
      },
      "execution_count": 138,
      "outputs": []
    },
    {
      "cell_type": "code",
      "source": [
        "FinalNlp({\n",
        "'question': questions [0],\n",
        "'context': context\n",
        "})"
      ],
      "metadata": {
        "colab": {
          "base_uri": "https://localhost:8080/"
        },
        "id": "8zvHK_U0aaVl",
        "outputId": "1bb3b539-bd22-4c54-a7f2-71e206877af3"
      },
      "execution_count": 139,
      "outputs": [
        {
          "output_type": "execute_result",
          "data": {
            "text/plain": [
              "{'score': 0.4860031306743622,\n",
              " 'start': 118,\n",
              " 'end': 132,\n",
              " 'answer': 'United Nations'}"
            ]
          },
          "metadata": {},
          "execution_count": 139
        }
      ]
    }
  ]
}